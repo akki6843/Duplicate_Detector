{
 "cells": [
  {
   "cell_type": "markdown",
   "metadata": {},
   "source": [
    "### As the name suggest the purpose of this script is to download the images "
   ]
  },
  {
   "cell_type": "code",
   "execution_count": 1,
   "metadata": {},
   "outputs": [],
   "source": [
    "import urllib.request\n",
    "import pandas as pd\n",
    "import os"
   ]
  },
  {
   "cell_type": "code",
   "execution_count": 2,
   "metadata": {},
   "outputs": [],
   "source": [
    "catname = 'Tunics'\n",
    "# catname = 'Top'\n",
    "# catname = 'my_try'\n",
    "def getimg(url,count):\n",
    "    localpath = '{0}/{1}.jpg'.format(catname, count)\n",
    "    urllib.request.urlretrieve(url, localpath)"
   ]
  },
  {
   "cell_type": "code",
   "execution_count": 5,
   "metadata": {},
   "outputs": [
    {
     "name": "stdout",
     "output_type": "stream",
     "text": [
      "   Unnamed: 0         productId  \\\n",
      "0           0  SPWE7T5EF93UGMZZ   \n",
      "1           1  BLODYGFS6D4CZZDZ   \n",
      "2           2  BLODYGFSHBVBKJUK   \n",
      "3           3  BLODYGFSRTZAWHHE   \n",
      "4           4  BLODYGFSFARJXJB2   \n",
      "\n",
      "                                               title  \\\n",
      "0      Smilzo Saree Panty Slp/2808 Women's Shapewear   \n",
      "1  Inblue Fashions Round Neck Women's Stitched Bl...   \n",
      "2  Inblue Fashions Round Neck Women's Stitched Bl...   \n",
      "3  Inblue Fashions Round Neck Women's Stitched Bl...   \n",
      "4  Inblue Fashions Round Neck Women's Stitched Bl...   \n",
      "\n",
      "                                         description  \\\n",
      "0  The wide and comfortable of Fashion Shapewears...   \n",
      "1  Inblue Fashions Black & White lace Silk Blouse...   \n",
      "2  Inblue Fashions Black & White lace Silk Blouse...   \n",
      "3  Inblue Fashions Black & White lace Silk Blouse...   \n",
      "4  Inblue Fashions Black & White lace Silk Blouse...   \n",
      "\n",
      "                                            imageURL  \n",
      "0  http://img.fkcdn.com/image/tunic/b/f/y/1-1-342...  \n",
      "1  http://img.fkcdn.com/image/tunic/b/f/y/1-1-342...  \n",
      "2  http://img.fkcdn.com/image/tunic/n/b/u/14193-2...  \n",
      "3  http://img.fkcdn.com/image/tunic/n/b/u/14193-2...  \n",
      "4  http://img.fkcdn.com/image/tunic/h/f/j/14190-6...  \n"
     ]
    }
   ],
   "source": [
    "data = pd.read_csv(\"small_tunics.csv\")\n",
    "print(data.head())\n",
    "URLS = data[\"imageURL\"]"
   ]
  },
  {
   "cell_type": "markdown",
   "metadata": {},
   "source": [
    "After the close inspection, it is understood that each ProductId contains 4 urls for same image with different resolutions ([Orignal, 200,400,800]). for the purpose of this task 400x400 resolution is taken. So that images will not be too small or too big to use."
   ]
  },
  {
   "cell_type": "code",
   "execution_count": 8,
   "metadata": {},
   "outputs": [
    {
     "name": "stdout",
     "output_type": "stream",
     "text": [
      "unable to fetch\n"
     ]
    }
   ],
   "source": [
    "for count, url in enumerate(URLS):\n",
    "    try:\n",
    "        a = url.split(\";\")\n",
    "        name = data['productId'][count]\n",
    "        getimg(a[2],name)\n",
    "    except:\n",
    "        print(\"unable to fetch\")"
   ]
  },
  {
   "cell_type": "markdown",
   "metadata": {},
   "source": [
    "this code is executed as py file in terminal as it was a long process. the downloader.py file is present with the codes"
   ]
  },
  {
   "cell_type": "code",
   "execution_count": null,
   "metadata": {},
   "outputs": [],
   "source": []
  }
 ],
 "metadata": {
  "kernelspec": {
   "display_name": "Python 3",
   "language": "python",
   "name": "python3"
  },
  "language_info": {
   "codemirror_mode": {
    "name": "ipython",
    "version": 3
   },
   "file_extension": ".py",
   "mimetype": "text/x-python",
   "name": "python",
   "nbconvert_exporter": "python",
   "pygments_lexer": "ipython3",
   "version": "3.5.5"
  }
 },
 "nbformat": 4,
 "nbformat_minor": 2
}
