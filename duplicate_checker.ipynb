{
 "cells": [
  {
   "cell_type": "markdown",
   "metadata": {},
   "source": [
    "### This script simply checks for two cases\n",
    "#### Case-1) the two images are duplicate or not. \n",
    "#### Case-2) To find the duplicates for the given image"
   ]
  },
  {
   "cell_type": "code",
   "execution_count": 2,
   "metadata": {},
   "outputs": [],
   "source": [
    "import cv2\n",
    "import numpy as np\n",
    "import json\n",
    "import pickle\n",
    "from keras.applications.vgg16 import VGG16\n",
    "from keras.preprocessing import image\n",
    "from keras.applications.vgg16 import preprocess_input\n",
    "from keras.models import Model\n",
    "from scipy.spatial import distance\n",
    "import os,glob"
   ]
  },
  {
   "cell_type": "code",
   "execution_count": 3,
   "metadata": {},
   "outputs": [],
   "source": [
    "def get_model():\n",
    "    base_model = VGG16(weights='imagenet', include_top=True)\n",
    "    model = Model(inputs=base_model.input,\n",
    "                  outputs=base_model.get_layer('fc2').output)\n",
    "    return model\n",
    "\n",
    "def feature_extraction(img,model):\n",
    "    img = cv2.resize(img,(224,224))\n",
    "    img = image.img_to_array(img)\n",
    "    img4d = np.expand_dims(img, axis=0)\n",
    "    pred = model.predict(img4d)[0,:]\n",
    "    return pred\n",
    "\n",
    "def comparator(image1, image2, model):\n",
    "    feat1 = feature_extraction(image1, model)\n",
    "    feat2 = feature_extraction(image2, model)\n",
    "    a = distance.euclidean(feat1, feat2)\n",
    "    if a != 0:\n",
    "        return False\n",
    "    else:\n",
    "        return True"
   ]
  },
  {
   "cell_type": "code",
   "execution_count": 5,
   "metadata": {},
   "outputs": [
    {
     "name": "stdout",
     "output_type": "stream",
     "text": [
      "Duplicate\n",
      "****************************\n",
      "Non-Duplicate\n"
     ]
    }
   ],
   "source": [
    "a = cv2.imread(\"./my_try/my_try0_1.jpg\")\n",
    "b = cv2.imread(\"./my_try/my_try0_1.jpg\")\n",
    "c = cv2.imread(\"./my_try/my_try10_1.jpg\")\n",
    "\n",
    "# del model\n",
    "\n",
    "model = get_model()\n",
    "\n",
    "check_a_b = comparator(a,b,model)\n",
    "if check_a_b == True:\n",
    "    print(\"Duplicate\")\n",
    "else:\n",
    "    print(\"Non-Duplicate\")\n",
    "\n",
    "print('****************************')\n",
    "\n",
    "check_b_c = comparator(b,c,model)\n",
    "if check_b_c == True:\n",
    "    print(\"Duplicate\")\n",
    "else:\n",
    "    print(\"Non-Duplicate\")\n",
    "\n",
    "del model    "
   ]
  },
  {
   "cell_type": "code",
   "execution_count": 6,
   "metadata": {},
   "outputs": [],
   "source": [
    "with open('./precompute/tunic/tunic.pickle', 'rb') as f:\n",
    "    b = pickle.load(f)\n",
    "    pid = list(b.keys())\n",
    "    feats = list(b.values())\n",
    "                "
   ]
  },
  {
   "cell_type": "code",
   "execution_count": 7,
   "metadata": {},
   "outputs": [],
   "source": [
    "path_to_img = \"./Tunics/TUNEJFR9SYD77PV2.jpg\""
   ]
  },
  {
   "cell_type": "code",
   "execution_count": 8,
   "metadata": {},
   "outputs": [],
   "source": [
    "img = cv2.imread(path_to_img)\n",
    "names = path_to_img.split(\"/\")\n",
    "fhead,_ = os.path.splitext(names[-1])\n",
    "model = get_model()\n",
    "feat_img = feature_extraction(img, model)\n",
    "del model\n",
    "final = {}\n",
    "dups = []\n",
    "for i, feat in enumerate(feats):\n",
    "    dist = distance.euclidean(feat,feat_img)\n",
    "    if dist == 0:\n",
    "        dups.append(pid[i])\n",
    "\n",
    "final[fhead] = dups"
   ]
  },
  {
   "cell_type": "code",
   "execution_count": 9,
   "metadata": {},
   "outputs": [
    {
     "name": "stdout",
     "output_type": "stream",
     "text": [
      "{\n",
      "     \"TUNEJFR9SYD77PV2\": [\n",
      "          \"TUNEJFR9SYD77PV2\",\n",
      "          \"TUNEJFR9GFQZSUGB\",\n",
      "          \"TUNEJFR9BANCWWYK\",\n",
      "          \"TUNEJFR9PZEHTGJX\"\n",
      "     ]\n",
      "}\n"
     ]
    }
   ],
   "source": [
    "print(json.dumps(final, indent=5))"
   ]
  },
  {
   "cell_type": "code",
   "execution_count": 10,
   "metadata": {},
   "outputs": [],
   "source": [
    "j = json.dumps(final)\n",
    "f = open(\"./results/single_dump_check/\"+str(fhead)+\".json\",\"w\")\n",
    "f.write(j)\n",
    "f.close()\n"
   ]
  },
  {
   "cell_type": "code",
   "execution_count": null,
   "metadata": {},
   "outputs": [],
   "source": []
  }
 ],
 "metadata": {
  "kernelspec": {
   "display_name": "Python 3",
   "language": "python",
   "name": "python3"
  },
  "language_info": {
   "codemirror_mode": {
    "name": "ipython",
    "version": 3
   },
   "file_extension": ".py",
   "mimetype": "text/x-python",
   "name": "python",
   "nbconvert_exporter": "python",
   "pygments_lexer": "ipython3",
   "version": "3.5.5"
  }
 },
 "nbformat": 4,
 "nbformat_minor": 2
}
