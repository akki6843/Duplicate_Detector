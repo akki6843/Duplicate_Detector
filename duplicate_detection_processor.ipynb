{
 "cells": [
  {
   "cell_type": "markdown",
   "metadata": {},
   "source": [
    "### The purpose of this script is to preprocess (feature-extraction and storing them) the images. To create a small dataset of preprocessed images for further use."
   ]
  },
  {
   "cell_type": "code",
   "execution_count": 2,
   "metadata": {},
   "outputs": [],
   "source": [
    "import cv2\n",
    "import numpy as np\n",
    "import pickle\n",
    "from keras.applications.vgg16 import VGG16\n",
    "from keras.preprocessing import image\n",
    "from keras.applications.vgg16 import preprocess_input\n",
    "from keras.models import Model\n",
    "from scipy.spatial import distance\n",
    "import os,glob\n"
   ]
  },
  {
   "cell_type": "code",
   "execution_count": 3,
   "metadata": {},
   "outputs": [],
   "source": [
    "def get_model():\n",
    "    base_model = VGG16(weights='imagenet', include_top=True)\n",
    "    model = Model(inputs=base_model.input,\n",
    "                  outputs=base_model.get_layer('fc2').output)\n",
    "    return model\n",
    "\n",
    "def feature_extraction(img,model):\n",
    "    img = cv2.resize(img,(224,224))\n",
    "    img = image.img_to_array(img)\n",
    "    img4d = np.expand_dims(img, axis=0)\n",
    "    pred = model.predict(img4d)[0,:]\n",
    "    return pred"
   ]
  },
  {
   "cell_type": "code",
   "execution_count": 2,
   "metadata": {},
   "outputs": [],
   "source": [
    "# X = np.empty(shape=[0,4096])\n",
    "images_names = []\n",
    "filenames = glob.glob(\"./Tunics/*\")"
   ]
  },
  {
   "cell_type": "code",
   "execution_count": 3,
   "metadata": {},
   "outputs": [],
   "source": [
    "feature = {}\n"
   ]
  },
  {
   "cell_type": "code",
   "execution_count": 10,
   "metadata": {},
   "outputs": [],
   "source": [
    "model = get_model()\n",
    "for idx,filename in enumerate(filenames):\n",
    "    img = cv2.imread(filename)\n",
    "    feat_img = feature_extraction(img,model)\n",
    "    _, ftail = os.path.split(filename)\n",
    "    fhead, _ = os.path.splitext(ftail)\n",
    "    feature[fhead] = feat_img\n",
    "            \n",
    "\n",
    "\n",
    "del model\n",
    "with open('./precompute/trial/tunic_.pickle','wb') as f:\n",
    "    pickle.dump(feature,f)"
   ]
  },
  {
   "cell_type": "raw",
   "metadata": {},
   "source": [
    "with open('./precompute/tunic/tunic.pickle', 'rb') as f:\n",
    "    b = pickle.load(f)\n",
    "    vals = b.values()\n",
    "    pids = b.keys()"
   ]
  },
  {
   "cell_type": "markdown",
   "metadata": {},
   "source": [
    "The script here takes all the images from above mentioned path and calculates its features and store them into the .npy file as refrence ready document. As a result, later when we will use this file for comparision it will be a faster execution. "
   ]
  },
  {
   "cell_type": "code",
   "execution_count": null,
   "metadata": {},
   "outputs": [],
   "source": []
  },
  {
   "cell_type": "code",
   "execution_count": null,
   "metadata": {},
   "outputs": [],
   "source": []
  },
  {
   "cell_type": "code",
   "execution_count": 7,
   "metadata": {},
   "outputs": [],
   "source": []
  },
  {
   "cell_type": "code",
   "execution_count": 8,
   "metadata": {},
   "outputs": [],
   "source": []
  },
  {
   "cell_type": "code",
   "execution_count": null,
   "metadata": {},
   "outputs": [],
   "source": []
  },
  {
   "cell_type": "code",
   "execution_count": null,
   "metadata": {},
   "outputs": [],
   "source": []
  }
 ],
 "metadata": {
  "kernelspec": {
   "display_name": "Python 3",
   "language": "python",
   "name": "python3"
  },
  "language_info": {
   "codemirror_mode": {
    "name": "ipython",
    "version": 3
   },
   "file_extension": ".py",
   "mimetype": "text/x-python",
   "name": "python",
   "nbconvert_exporter": "python",
   "pygments_lexer": "ipython3",
   "version": "3.5.5"
  }
 },
 "nbformat": 4,
 "nbformat_minor": 2
}
