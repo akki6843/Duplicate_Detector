{
 "cells": [
  {
   "cell_type": "markdown",
   "metadata": {},
   "source": [
    "## Methods analysis for solving the problem statement and stating the hypothesis for, What is duplicate images?"
   ]
  },
  {
   "cell_type": "markdown",
   "metadata": {},
   "source": [
    "## Hypothesis: \n",
    "   #### any image having same pixel values or features, that of query image is said to be a duplicate image"
   ]
  },
  {
   "cell_type": "markdown",
   "metadata": {},
   "source": [
    "#### Importing all the required libraries"
   ]
  },
  {
   "cell_type": "code",
   "execution_count": 10,
   "metadata": {},
   "outputs": [],
   "source": [
    "import cv2\n",
    "import numpy as np\n",
    "from scipy.spatial import distance\n",
    "from keras.applications.vgg16 import VGG16\n",
    "from keras.preprocessing import image\n",
    "from keras.applications.vgg16 import preprocess_input\n",
    "from keras.models import Model\n",
    "\n",
    "import os"
   ]
  },
  {
   "cell_type": "markdown",
   "metadata": {},
   "source": [
    "#### Method 1:Approch uses standerd Image Processig technique.For comparing two images simply subtract them and check the image difference matrix it it contains value."
   ]
  },
  {
   "cell_type": "code",
   "execution_count": 2,
   "metadata": {},
   "outputs": [],
   "source": [
    "def resize(image, size=(250,250)):\n",
    "    return cv2.resize(image,size)\n",
    "\n",
    "def sub_similarity(image1, image2):\n",
    "    image1 = resize(image1)\n",
    "    image2 = resize(image2)\n",
    "    difference = cv2.subtract(image1, image2)\n",
    "    result = not np.any(difference)\n",
    "    if result is True:\n",
    "        print(\"same\")\n",
    "        return True\n",
    "    else:\n",
    "        print(\"different\")\n",
    "        return False"
   ]
  },
  {
   "cell_type": "code",
   "execution_count": 4,
   "metadata": {},
   "outputs": [
    {
     "name": "stdout",
     "output_type": "stream",
     "text": [
      "same\n",
      "True\n",
      "************\n",
      "different\n",
      "False\n"
     ]
    }
   ],
   "source": [
    "a = cv2.imread(\"./my_try/my_try0_1.jpg\")\n",
    "b = cv2.imread(\"./my_try/my_try0_1.jpg\")\n",
    "c = cv2.imread(\"./my_try/my_try1_1.jpg\")\n",
    "status_a_b = sub_similarity(a,b)\n",
    "print(status_a_b)\n",
    "print(\"************\")\n",
    "status_b_c = sub_similarity(b,c)\n",
    "print(status_b_c)"
   ]
  },
  {
   "cell_type": "markdown",
   "metadata": {},
   "source": [
    "#### The above method is good if the required case is such that, we have to compare only one pair of image at a time.But in this method chances of faliure is high. As we are only considering pixel values  for the calculations."
   ]
  },
  {
   "cell_type": "markdown",
   "metadata": {},
   "source": [
    "******************************************************************************"
   ]
  },
  {
   "cell_type": "markdown",
   "metadata": {},
   "source": [
    "#### Method 2: Using the mean square error (mse). As the images are nothing but the two dimensional signal. Therefore, signal processing technique can also ne used to check the similarity"
   ]
  },
  {
   "cell_type": "code",
   "execution_count": 5,
   "metadata": {},
   "outputs": [],
   "source": [
    "def mse(image1, image2):\n",
    "    image1 = resize(image1)\n",
    "    image2 = resize(image2)\n",
    "    error = np.sum((image1.astype(\"float\") - image2.astype(\"float\")) ** 2)\n",
    "    return error"
   ]
  },
  {
   "cell_type": "code",
   "execution_count": 7,
   "metadata": {},
   "outputs": [
    {
     "name": "stdout",
     "output_type": "stream",
     "text": [
      "The mse between a and b is 0.00\n",
      "The mse between b and c is 463947575.00\n"
     ]
    }
   ],
   "source": [
    "a = cv2.imread(\"./my_try/my_try0_1.jpg\")\n",
    "b = cv2.imread(\"./my_try/my_try0_1.jpg\")\n",
    "c = cv2.imread(\"./my_try/my_try1_1.jpg\")\n",
    "status_a_b = mse(a,b)\n",
    "status_b_c = mse(b,c)\n",
    "print(\"The mse between a and b is {:.2f}\".format(status_a_b))\n",
    "print(\"The mse between b and c is {:.2f}\".format(status_b_c))"
   ]
  },
  {
   "cell_type": "markdown",
   "metadata": {},
   "source": [
    "#### The method of mse is so not going to solve the problem for us as the requirment, as mse tends to provide the output in analog way where 0 means similar and away from 0 towards + inf is different. Although values can be  normalized to stay in range on 0 to 1. But its not very ideal way."
   ]
  },
  {
   "cell_type": "markdown",
   "metadata": {},
   "source": [
    "***********************************************"
   ]
  },
  {
   "cell_type": "markdown",
   "metadata": {},
   "source": [
    "#### Method 3: use of deep learning where a pre-trained model is used to extract the features and then clustering them  to store the like-ones together so when a query image comes, just extract fetures and look for cluster which is closest to query image fetures. "
   ]
  },
  {
   "cell_type": "code",
   "execution_count": 8,
   "metadata": {},
   "outputs": [],
   "source": [
    "def get_model():\n",
    "    base_model = VGG16(weights='imagenet', include_top=True)\n",
    "    model = Model(inputs=base_model.input,\n",
    "                  outputs=base_model.get_layer('fc2').output)\n",
    "    return model\n",
    "\n",
    "def feature_extraction(img,model):\n",
    "    img = cv2.resize(img,(224,224))\n",
    "    img = image.img_to_array(img)\n",
    "    img4d = np.expand_dims(img, axis=0)\n",
    "    pred = model.predict(img4d)[0,:]\n",
    "    return pred\n",
    "\n"
   ]
  },
  {
   "cell_type": "code",
   "execution_count": 9,
   "metadata": {},
   "outputs": [],
   "source": [
    "model = get_model()\n",
    "a = cv2.imread(\"./my_try/my_try0_1.jpg\")\n",
    "b = cv2.imread(\"./my_try/my_try0_1.jpg\")\n",
    "c = cv2.imread(\"./my_try/my_try1_1.jpg\")\n",
    "f_a = feature_extraction(a, model)\n",
    "f_b = feature_extraction(b, model)\n",
    "f_c = feature_extraction(c, model)\n",
    "\n",
    "del model"
   ]
  },
  {
   "cell_type": "code",
   "execution_count": 11,
   "metadata": {},
   "outputs": [
    {
     "name": "stdout",
     "output_type": "stream",
     "text": [
      "A to B image distance is 0.0\n",
      " and B to C image distance is 44.21\n"
     ]
    }
   ],
   "source": [
    "\n",
    "d_a_b = distance.euclidean(f_a, f_b)\n",
    "d_b_c = distance.euclidean(f_b, f_c)\n",
    "\n",
    "print(\"A to B image distance is {}\\n and B to C image distance is {:.2f}\".format(d_a_b, d_b_c))"
   ]
  },
  {
   "cell_type": "markdown",
   "metadata": {},
   "source": [
    "#### As we can see that with deep learning method also we can check the similarity of two images. Here we can see that similar images tends to have zero spatial distance between them while non-similar have mre distance between"
   ]
  },
  {
   "cell_type": "markdown",
   "metadata": {},
   "source": [
    "************************"
   ]
  },
  {
   "cell_type": "markdown",
   "metadata": {},
   "source": [
    "#### Before finalizing the approch to be used for solving the problem, here are two more methods that can be considered for this task. But this are not suitable for genric use as according to me their final values are highly susceptible to noise. \n",
    "\n",
    "#### 1) SSIM : structural similarity index measurment \n",
    "#### 2) Hash_signature : calculating the hash value of the image."
   ]
  },
  {
   "cell_type": "markdown",
   "metadata": {},
   "source": [
    "************"
   ]
  },
  {
   "cell_type": "markdown",
   "metadata": {},
   "source": [
    "#### So to finalize deep learning approch(Method 3) will be used as each image can be preprocessed and can be stored as mat file which is faster way to access the data when we need to load images regularly. and images can be represented by smaller array."
   ]
  },
  {
   "cell_type": "code",
   "execution_count": null,
   "metadata": {},
   "outputs": [],
   "source": []
  }
 ],
 "metadata": {
  "kernelspec": {
   "display_name": "Python 3",
   "language": "python",
   "name": "python3"
  },
  "language_info": {
   "codemirror_mode": {
    "name": "ipython",
    "version": 3
   },
   "file_extension": ".py",
   "mimetype": "text/x-python",
   "name": "python",
   "nbconvert_exporter": "python",
   "pygments_lexer": "ipython3",
   "version": "3.5.5"
  }
 },
 "nbformat": 4,
 "nbformat_minor": 2
}
